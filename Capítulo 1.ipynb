{
 "cells": [
  {
   "cell_type": "code",
   "execution_count": 3,
   "id": "a874090f",
   "metadata": {
    "ExecuteTime": {
     "end_time": "2023-01-24T01:03:51.672728Z",
     "start_time": "2023-01-24T01:03:48.829010Z"
    }
   },
   "outputs": [],
   "source": [
    "import pandas as pd\n",
    "import matplotlib.pyplot as plt\n",
    "import seaborn as sns\n",
    "import numpy as np\n",
    "import random"
   ]
  },
  {
   "cell_type": "markdown",
   "id": "752a2b87",
   "metadata": {
    "heading_collapsed": true
   },
   "source": [
    "## Estimativas de localização / tendência central"
   ]
  },
  {
   "cell_type": "markdown",
   "id": "56a125bb",
   "metadata": {
    "hidden": true
   },
   "source": [
    "Variáveis com dados medidos ou de contagem podem ter milhares de valores distintos. Um passo básico na exploração dos seus dados é obter um \"valor típico\" para cada variável: uma estimativa de onde a maioria dos dados está localizada, ou seja, sua tendência central (\"the tendency of quantitative data to cluster around some central value.\")\n",
    "\n",
    "Qual é o ponto que resume todos os pontos que tenho?"
   ]
  },
  {
   "cell_type": "markdown",
   "id": "43752663",
   "metadata": {
    "hidden": true
   },
   "source": [
    "**Obs**: na estatística, 'N' se refere ao numéro de registros da população e 'n' da amostra.\n",
    "\n",
    "**Obs**: para substituição de dados faltantes, se não tiver outlier nos dados, dá para usar a média, se tiver dá para pegar o que está entre o quartil 25 e o quartil 75 e preencher com valores aleatórios dentro desse range.\n",
    "\n",
    "**Obs**: "
   ]
  },
  {
   "cell_type": "markdown",
   "id": "10f5b0ee",
   "metadata": {
    "heading_collapsed": true,
    "hidden": true
   },
   "source": [
    "### Média"
   ]
  },
  {
   "cell_type": "markdown",
   "id": "cf3874f6",
   "metadata": {
    "hidden": true
   },
   "source": [
    "$\\bar{x} = \\frac{\\sum_{i=1}^{n} x_i}{n}$"
   ]
  },
  {
   "cell_type": "markdown",
   "id": "e857bf44",
   "metadata": {
    "heading_collapsed": true,
    "hidden": true
   },
   "source": [
    "### 'Trimmed' média"
   ]
  },
  {
   "cell_type": "markdown",
   "id": "2889617c",
   "metadata": {
    "hidden": true
   },
   "source": [
    "Calcular descartando um número fixo de valores classificados em cada extremidade e, em seguida, tirando uma média dos valores restantes.\n",
    "\n",
    "$\\bar{x}{trim} = \\frac{\\sum^{^{n-k}}_{i=k+1} x_i}{n-2k}$\n",
    "\n",
    "K é a quantidade de valores que serão removidos em cada extremidade."
   ]
  },
  {
   "cell_type": "markdown",
   "id": "256b253d",
   "metadata": {
    "heading_collapsed": true,
    "hidden": true
   },
   "source": [
    "### Mediana"
   ]
  },
  {
   "cell_type": "markdown",
   "id": "762b7c35",
   "metadata": {
    "hidden": true
   },
   "source": [
    "A mediana é o número do meio em uma lista ordenada dos dados. A mediana depende apenas dos valores no centro dos dados classificados (depende da localização e não dos valores em si).\n",
    "\n",
    "A mediana é considerada uma estimativa robusta de localização, pois não é influenciada por valores fora do padrão (casos extremos) que poderiam distorcer os resultados.\n",
    "\n",
    "A mediana não é a única estimativa robusta de localização. De fato, a média aparada é amplamente utilizada para evitar a influência de valores fora do padrão. Por exemplo, aparar os 10% inferiores e superiores dos dados (uma escolha comum) fornecerá proteção contra valores fora do padrão em todos os conjuntos de dados, exceto os mais pequenos. A média aparada pode ser vista como um compromisso entre a mediana e a média: é robusta a valores extremos nos dados, mas usa mais dados para calcular a estimativa de localização."
   ]
  },
  {
   "cell_type": "markdown",
   "id": "2e275e8a",
   "metadata": {
    "heading_collapsed": true,
    "hidden": true
   },
   "source": [
    "### Outlier"
   ]
  },
  {
   "cell_type": "markdown",
   "id": "1c96511c",
   "metadata": {
    "hidden": true
   },
   "source": [
    "An exact definition of an outlier is somewhat subjective, although certain conventions are used. Um outlier é qualquer valor que distoa muito dos outros valores do conjunto de dados."
   ]
  },
  {
   "cell_type": "markdown",
   "id": "0b72116a",
   "metadata": {
    "heading_collapsed": true
   },
   "source": [
    "## Estimativas de dispersão / variabilidade"
   ]
  },
  {
   "cell_type": "markdown",
   "id": "e3773ce9",
   "metadata": {
    "hidden": true
   },
   "source": [
    "A localização é apenas uma dimensão na sumarização de uma característica. Uma segunda dimensão, variabilidade, também conhecida como dispersão, mede se os valores dos dados estão fortemente agrupados ou espalhados. No coração da estatística está a variabilidade: medindo, reduzindo, distinguindo variabilidade aleatória de variabilidade real, identificando as várias fontes de variabilidade real e tomando decisões na presença dela."
   ]
  },
  {
   "cell_type": "markdown",
   "id": "c918b237",
   "metadata": {
    "heading_collapsed": true,
    "hidden": true
   },
   "source": [
    "### Definições"
   ]
  },
  {
   "cell_type": "markdown",
   "id": "7c12b22d",
   "metadata": {
    "hidden": true
   },
   "source": [
    "* **Deviations** - The difference between the observed values and the estimate of location (pode ser chamado de erro ou resíduo).\n",
    "* **Variance** - The sum of squared deviations from the mean divided by n – 1 where n is the number of data values (chamada também de mean-squared-error).\n",
    "* **Standard deviation** - The square root of the variance\n",
    "* **Mean absolute deviation** - The mean of the absolute values of the deviations from the mean. (chamado de l1-norm ou Manhattan norm).\n",
    "* **Median absolute deviation from the median** - The median of the absolute values of the deviations from the median.\n",
    "* **Range** - The difference between the largest and the smallest value in a data set.\n",
    "* **Order statistics** - Metrics based on the data values sorted from smallest to biggest.\n",
    "* **Percentile** - The value such that P percent of the values take on this value or less and (100–P) percent take on this value or more.\n",
    "* **Interquartile range (IQR)** - The difference between the 75th percentile and the 25th percentile."
   ]
  },
  {
   "cell_type": "markdown",
   "id": "215ddc4d",
   "metadata": {
    "heading_collapsed": true,
    "hidden": true
   },
   "source": [
    "### Standard deviation and Related Estimates"
   ]
  },
  {
   "cell_type": "markdown",
   "id": "e27a5283",
   "metadata": {
    "hidden": true
   },
   "source": [
    "The most widely used estimates of variation are based on the differences, or deviations, between the estimate of location and the observed data."
   ]
  },
  {
   "cell_type": "markdown",
   "id": "7903fa7e",
   "metadata": {
    "heading_collapsed": true,
    "hidden": true
   },
   "source": [
    "#### Mean Absolute Deviation (MAD)"
   ]
  },
  {
   "cell_type": "markdown",
   "id": "6d98da39",
   "metadata": {
    "hidden": true
   },
   "source": [
    "One way to measure variability is to estimate a typical value for these deviations.\n",
    "Averaging the deviations themselves would not tell us much—the negative deviations\n",
    "offset the positive ones. \n",
    "\n",
    "So, we take the average of the absolute values of the\n",
    "deviations from the mean."
   ]
  },
  {
   "cell_type": "markdown",
   "id": "26518c00",
   "metadata": {
    "hidden": true
   },
   "source": [
    "$MAD = \\frac{1}{n} \\sum_{i=1}^{n} |x_i - \\mu|$"
   ]
  },
  {
   "cell_type": "markdown",
   "id": "8d4270d4",
   "metadata": {
    "heading_collapsed": true,
    "hidden": true
   },
   "source": [
    "#### Variance and Standard Deviation"
   ]
  },
  {
   "cell_type": "markdown",
   "id": "a90fe0fe",
   "metadata": {
    "hidden": true
   },
   "source": [
    "The best-known estimates of variability are the variance and the standard deviation,\n",
    "which are based on squared deviations.\n",
    "\n",
    "The standard deviation is much easier to interpret than the variance since it is on the\n",
    "same scale as the original data.\n",
    "\n",
    "**Obs:** standard deviation is preferred in statistics over the mean absolute deviation. It owes its preeminence to statistical theory: mathematically, working with squared values is much more convenient than absolute values, especially for statistical models."
   ]
  },
  {
   "cell_type": "markdown",
   "id": "6fb9aa5f",
   "metadata": {
    "hidden": true
   },
   "source": [
    "$\\sigma^2 = \\frac{1}{n} \\sum_{i=1}^{n} (x_i - \\mu)^2$\n",
    "\n",
    "$\\sigma = \\sqrt{\\frac{1}{n} \\sum_{i=1}^{n} (x_i - \\mu)^2}$"
   ]
  },
  {
   "cell_type": "markdown",
   "id": "52c39d05",
   "metadata": {
    "hidden": true
   },
   "source": [
    "### Estimates based on Percentiles"
   ]
  },
  {
   "cell_type": "markdown",
   "id": "69294ce7",
   "metadata": {
    "hidden": true
   },
   "source": [
    "A different approach to estimating dispersion is based on looking at the spread of the sorted data. Statistics based on sorted (ranked) data are referred to as order statistics.\n",
    "\n",
    "A medida mais básica é o range. Ele é bom em identificar outliers, mas é uma medida muito sensível a outlier quando você quer medir a dispersão dos dados com o range. Para evitar isso, pode olhar pro range depois de dropar os outliers.\n",
    "\n",
    "Essas medidas são baseadas nas diferenças entre os percentis. "
   ]
  },
  {
   "cell_type": "markdown",
   "id": "201b1dcf",
   "metadata": {
    "hidden": true
   },
   "source": [
    "#### Percentile"
   ]
  },
  {
   "cell_type": "markdown",
   "id": "594dc58a",
   "metadata": {
    "hidden": true
   },
   "source": [
    "O Pth percentil é o valor que P% dos valores são iguais a ele ou menores e (100 - P)% dos dados estão acima dele. \n",
    "\n",
    "A mediana é a mesma coisa que o 50th percentil. \n",
    "\n",
    "O percentil é a mesma coisa que o quantil, quando se fala em quantil, você fala em .8, .7, que a mesma coisa coisa que falar 80 percentil, 70 percentil.\n",
    "\n",
    "Percentiles are also valuable for summarizing the entire distribution.\n",
    "\n",
    "Percentiles are especially valuable for summarizing the tails (the outer range) of the distribution.\n",
    "\n",
    "**Obs:** para datasets grandes, calcular os exatos percentis pode ser computacionalmente custos, uma vez que para isso é necessário ordenar todos os dados. Para isso, foram desenvolvidos algoritmos que calculam mais rapidamente e chegam em uma aproximação do percentil exato. \n",
    "\n",
    "**Obs:** Quartis (25th percentil, 50th percentil, 75 percentil). Decil (10 percentil, 20, ... 90 percentil)."
   ]
  },
  {
   "cell_type": "markdown",
   "id": "dcec9641",
   "metadata": {
    "hidden": true
   },
   "source": [
    "#### Interquartile Range (IQR)"
   ]
  },
  {
   "cell_type": "markdown",
   "id": "84e156c8",
   "metadata": {
    "hidden": true
   },
   "source": [
    "É uma medida de dispersão comum.\n",
    "\n",
    "Ela é a diferença entre o percentil 75 e o percentil 25.\n",
    "\n",
    "Exemplo:\n",
    "* Dados: {3,1,5,3,6,7,2,9}.\n",
    "* Dados ordenados: {1,2,3,3,5,6,7,9}\n",
    "* O 25th é 2.5, o 75th percentil é 6.5, então o IQR = 6.5 – 2.5 = 4."
   ]
  },
  {
   "cell_type": "markdown",
   "id": "8ffb7828",
   "metadata": {
    "heading_collapsed": true
   },
   "source": [
    "## Exploring the Data Distribution"
   ]
  },
  {
   "cell_type": "markdown",
   "id": "d6a5cebc",
   "metadata": {
    "hidden": true
   },
   "source": [
    "Each of the estimates we’ve covered sums up the data in a single number to describe\n",
    "the location or variability of the data.  It is also useful to explore how the data is dis‐\n",
    "tributed overall.\n"
   ]
  },
  {
   "cell_type": "markdown",
   "id": "e6a9effa",
   "metadata": {
    "hidden": true
   },
   "source": [
    "### Definições"
   ]
  },
  {
   "cell_type": "markdown",
   "id": "d7780812",
   "metadata": {
    "hidden": true
   },
   "source": [
    "* **Boxplot**: A plot introduced by Tukey as a quick way to visualize the distribution of data.\n",
    "* **Frequency Table**: A tally of the count of numeric data values that fall into a set of intervals (bins).\n",
    "* **Histogram**: A plot of the frequency table with the bins on the x-axis and the count (or proportion) on the y-axis. While visually similar, bar charts should not be confused with histograms.\n",
    "* **Density plot**: A smoothed version of the histogram, often based on a kernel density estimate."
   ]
  },
  {
   "cell_type": "markdown",
   "id": "4c8c2b7d",
   "metadata": {
    "hidden": true
   },
   "source": [
    "### Boxplot"
   ]
  },
  {
   "cell_type": "markdown",
   "id": "3d5958d3",
   "metadata": {
    "hidden": true
   },
   "source": [
    "https://miro.medium.com/max/828/1*objBGPPd5mgAXLOnJYqaFA.webp"
   ]
  },
  {
   "cell_type": "markdown",
   "id": "db8222a5",
   "metadata": {
    "hidden": true
   },
   "source": [
    "The top and bottom of the box are the 75th and 25th percentiles, respectively. The median is shown by the horizontal line in the box. The dashed lines, are the  whiskers. O tamanho dessa linha tracejada pra cima é de 1.5 * IQR (75 percentil - 25 percentil)."
   ]
  },
  {
   "cell_type": "markdown",
   "id": "1ca1125a",
   "metadata": {
    "hidden": true
   },
   "source": [
    "### Frequency Table"
   ]
  },
  {
   "cell_type": "markdown",
   "id": "73709256",
   "metadata": {
    "hidden": true
   },
   "source": [
    "A frequency table of a variable divides up the variable range into equally spaced segments and tells us how many values fall within each segment."
   ]
  },
  {
   "cell_type": "markdown",
   "id": "433856e2",
   "metadata": {
    "hidden": true
   },
   "source": [
    "Separa em bins (intervalo) e conta quantos casos se encaixam em cada bin."
   ]
  },
  {
   "cell_type": "markdown",
   "id": "709b9446",
   "metadata": {
    "hidden": true
   },
   "source": [
    "It is important to include the empty bins; the fact that there are no values in those bins is useful information. It can also be useful to experiment with different bin sizes. If they are too large, important features of the distribution can be obscured. If they are too small, the result is too granular, and the ability to see the bigger picture is lost."
   ]
  },
  {
   "cell_type": "markdown",
   "id": "7b4e3d3a",
   "metadata": {
    "hidden": true
   },
   "source": [
    "### Histograms\n",
    "\n",
    "A histogram is a way to visualize a frequency table, with bins on the x-axis and the\n",
    "data count on the y-axis."
   ]
  },
  {
   "cell_type": "markdown",
   "id": "9e52281a",
   "metadata": {
    "hidden": true
   },
   "source": [
    "### Density plot"
   ]
  },
  {
   "cell_type": "markdown",
   "id": "c128e1ca",
   "metadata": {
    "hidden": true
   },
   "source": [
    "\n",
    "O gráfico de densidade pode ser entendido como um histograma mais suave. A distribuição dos dados é mostrada como uma linha contínua e não por meio de barras."
   ]
  },
  {
   "cell_type": "markdown",
   "id": "6b6e71b7",
   "metadata": {
    "hidden": true
   },
   "source": [
    "Suponha que temos 3 bins.\n",
    "* No primeiro temos 10 casos\n",
    "* No segundo 70 casos\n",
    "* No terceiro 20 casos\n",
    "\n",
    "Ao invés de plotarmos um histograma que tem no eixo y a contagem absoluta de casos em cada bin, pega a proporção de cada bin e bota isso no eixo y."
   ]
  },
  {
   "cell_type": "markdown",
   "id": "77927fb1",
   "metadata": {
    "heading_collapsed": true
   },
   "source": [
    "## Exploring Binary and Categorical Data"
   ]
  },
  {
   "cell_type": "markdown",
   "id": "b91308b5",
   "metadata": {
    "hidden": true
   },
   "source": [
    "For categorical data, simple proportions or percentages tell the story of the data."
   ]
  },
  {
   "cell_type": "markdown",
   "id": "8df0df2d",
   "metadata": {
    "hidden": true
   },
   "source": [
    "### Definições"
   ]
  },
  {
   "cell_type": "markdown",
   "id": "0147eacb",
   "metadata": {
    "hidden": true
   },
   "source": [
    "* **Mode**: The most commonly occurring category or value in a data set.\n",
    "* **Expected Value**: When the categories can be associated with a numeric value, this gives an average value based on a category’s probability of occurrence.\n",
    "* **Bar charts**: The frequency or proportion for each category plotted as bars.\n",
    "* **Pie charts**: The frequency or proportion for each category plotted as wedges in a pie."
   ]
  },
  {
   "cell_type": "markdown",
   "id": "c47f008f",
   "metadata": {
    "hidden": true
   },
   "source": [
    "### Bar charts"
   ]
  },
  {
   "cell_type": "markdown",
   "id": "63d8025b",
   "metadata": {
    "hidden": true
   },
   "source": [
    "Note that a bar chart resembles a histogram; in a bar chart the x-axis represents different categories of a factor variable, while in a histogram the x-axis represents values of a single variable on a numeric scale. In a histogram, the bars are typically shown touching each other, with gaps indicating values that did not occur in the data. In a bar chart, the bars are shown separate from one another.\n"
   ]
  },
  {
   "cell_type": "markdown",
   "id": "112b6f2a",
   "metadata": {
    "hidden": true
   },
   "source": [
    "### Mode"
   ]
  },
  {
   "cell_type": "markdown",
   "id": "9d88fc4d",
   "metadata": {
    "hidden": true
   },
   "source": [
    "The mode is the value that appears most often in the data. "
   ]
  },
  {
   "cell_type": "markdown",
   "id": "1230a441",
   "metadata": {
    "heading_collapsed": true,
    "hidden": true
   },
   "source": [
    "### Expected Value"
   ]
  },
  {
   "cell_type": "code",
   "execution_count": null,
   "id": "c797a984",
   "metadata": {
    "hidden": true
   },
   "outputs": [],
   "source": []
  },
  {
   "cell_type": "markdown",
   "id": "2a4c169d",
   "metadata": {
    "heading_collapsed": true
   },
   "source": [
    "## Correlation"
   ]
  },
  {
   "cell_type": "markdown",
   "id": "46518542",
   "metadata": {
    "hidden": true
   },
   "source": [
    "Exploratory data analysis in many modeling projects involves examining correlation among predictors, and between predictors and a target variable. Variables X and Y (each with measured data) are said to be positively correlated if high values of X go with high values of Y, if high values of X go with low values of Y, and vice versa, the variables are negatively correlated."
   ]
  },
  {
   "cell_type": "markdown",
   "id": "21e7c3e0",
   "metadata": {
    "heading_collapsed": true,
    "hidden": true
   },
   "source": [
    "### Definições"
   ]
  },
  {
   "cell_type": "markdown",
   "id": "edd8d360",
   "metadata": {
    "hidden": true
   },
   "source": [
    "* **Correlation coefficient**: A metric that measures the extent to which numeric variables are associated with\n",
    "one another (ranges from –1 to +1).\n",
    "* **Correlation matrix**: A table where the variables are shown on both rows and columns, and the cell\n",
    "values are the correlations between the variables.\n",
    "* **Scatterplot**: A plot in which the x-axis is the value of one variable, and the y-axis the value of\n",
    "another."
   ]
  },
  {
   "cell_type": "markdown",
   "id": "c2a9b938",
   "metadata": {
    "hidden": true
   },
   "source": [
    "### Pearson's correlation coefficient"
   ]
  },
  {
   "attachments": {
    "image.png": {
     "image/png": "[encoded data removed]"
    }
   },
   "cell_type": "markdown",
   "id": "be542f7d",
   "metadata": {
    "hidden": true
   },
   "source": [
    "The correlation coefficient is a standardized way to calculate correlation between variables, which gives an estimate of the correlation between two variables that always lies on the same scale. Ele é calculado matematicamente como o covariancia das duas variáveis dividido pelo produto dos desvios padrão das duas variáveis (para tornar um valor sempre entre -1 e 1).\n",
    "\n",
    "![image.png](attachment:image.png)"
   ]
  },
  {
   "cell_type": "markdown",
   "id": "85011d6a",
   "metadata": {
    "hidden": true
   },
   "source": [
    "**Obs: Variables can have an association that is not linear, in which case the correlation coefficient may not be a useful metric.**"
   ]
  },
  {
   "cell_type": "markdown",
   "id": "5ea044b4",
   "metadata": {
    "hidden": true
   },
   "source": [
    "**Obs: Like the mean and standard deviation, the correlation coefficient is sensitive to outli‐\n",
    "ers in the data. We can trim data, like in the mean.**"
   ]
  },
  {
   "cell_type": "markdown",
   "id": "bbe993c7",
   "metadata": {
    "hidden": true
   },
   "source": [
    "### Scatterplot"
   ]
  },
  {
   "cell_type": "markdown",
   "id": "261318f7",
   "metadata": {
    "hidden": true
   },
   "source": [
    "The standard way to visualize the relationship between two measured data variables is with a scatterplot. The x-axis represents one variable and the y-axis another, and each point on the graph is a record."
   ]
  },
  {
   "cell_type": "markdown",
   "id": "f1710528",
   "metadata": {},
   "source": [
    "## Exploring Two or More Variables"
   ]
  },
  {
   "cell_type": "markdown",
   "id": "7022b158",
   "metadata": {},
   "source": [
    "Familiar estimators like mean and variance look at variables one at a time (univariate analysis). Correlation analysis is an important method that compares two variables (bivariate analysis). In this section we look at additional estimates and plots, and at more than two variables (multivariate analysis)."
   ]
  },
  {
   "cell_type": "markdown",
   "id": "cd291ac6",
   "metadata": {},
   "source": [
    "### Definições"
   ]
  },
  {
   "cell_type": "markdown",
   "id": "26f5f5c3",
   "metadata": {},
   "source": [
    "* **Contingency table**: A tally of counts between two or more categorical variables.\n",
    "* **Hexagonal binning**: A plot of two numeric variables with the records binned into hexagons.\n",
    "* **Contour plot**: A plot showing the density of two numeric variables like a topographical map\n",
    "* **Violin plot**: Similar to a boxplot but showing the density estimate."
   ]
  },
  {
   "cell_type": "markdown",
   "id": "3aea12e9",
   "metadata": {},
   "source": [
    "### Hexagonal Binning (Plotting Numeric Versus Numeric Data)"
   ]
  },
  {
   "cell_type": "markdown",
   "id": "4e741b2e",
   "metadata": {},
   "source": [
    "Scatterplots are fine when there is a relatively small number of data values. For data sets with hun‐\n",
    "dreds of thousands or millions of records, a scatterplot will be too dense, so we need a different way to visualize the relationship."
   ]
  },
  {
   "attachments": {
    "image.png": {
     "image/png": "[encoded data removed]"
    }
   },
   "cell_type": "markdown",
   "id": "2accd7ab",
   "metadata": {},
   "source": [
    "![image.png](attachment:image.png)"
   ]
  },
  {
   "cell_type": "markdown",
   "id": "3aea12e9",
   "metadata": {},
   "source": [
    "### Contour plot (Plotting Numeric Versus Numeric Data)"
   ]
  },
  {
   "cell_type": "code",
   "execution_count": null,
   "id": "a30505ed",
   "metadata": {},
   "outputs": [],
   "source": []
  },
  {
   "cell_type": "markdown",
   "id": "3aea12e9",
   "metadata": {},
   "source": [
    "### Two Categorical Variables"
   ]
  },
  {
   "cell_type": "markdown",
   "id": "7936c105",
   "metadata": {},
   "source": [
    "Para visualizar a relação entre duas variáveis categóricas podemos utilizar a tabela de contingência. Colocamos as categorias da var1 na linha, as categorias da var2 nas colunas e preenchemos essa tabela com a quantidade de casos da linha i e da coluna j."
   ]
  },
  {
   "cell_type": "markdown",
   "id": "e70e7138",
   "metadata": {},
   "source": [
    "imagem da pagina 40."
   ]
  },
  {
   "cell_type": "markdown",
   "id": "3aea12e9",
   "metadata": {},
   "source": [
    "### Categorical and Numeric Data"
   ]
  },
  {
   "cell_type": "markdown",
   "id": "01a58f38",
   "metadata": {},
   "source": [
    "Boxplots are a simple way to visually compare the distributions of a numeric variable grouped according to a categorical variable.\n",
    "\n",
    "A violin plot, is an enhancement to the boxplot and plots the density estimate with the density on the y-axis. The density is mirrored and flipped over, and the resulting shape is filled in, creating an image resembling a violin\n",
    "* The advantage is that show nuances in distribution that aren't perceptible in a boxplot\n",
    "* Can't show the outliers so well as boxplot"
   ]
  },
  {
   "cell_type": "markdown",
   "id": "98c67872",
   "metadata": {},
   "source": [
    "imagens pag 41 e 42"
   ]
  }
 ],
 "metadata": {
  "interpreter": {
   "hash": "26de051ba29f2982a8de78e945f0abaf191376122a1563185a90213a26c5da77"
  },
  "kernelspec": {
   "display_name": "Python 3.10.0 64-bit",
   "language": "python",
   "name": "python3"
  },
  "language_info": {
   "codemirror_mode": {
    "name": "ipython",
    "version": 3
   },
   "file_extension": ".py",
   "mimetype": "text/x-python",
   "name": "python",
   "nbconvert_exporter": "python",
   "pygments_lexer": "ipython3",
   "version": "3.10.0"
  }
 },
 "nbformat": 4,
 "nbformat_minor": 5
}
