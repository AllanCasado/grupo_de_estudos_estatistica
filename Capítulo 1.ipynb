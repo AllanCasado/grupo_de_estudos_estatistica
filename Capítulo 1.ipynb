{
 "cells": [
  {
   "cell_type": "markdown",
   "id": "752a2b87",
   "metadata": {
    "heading_collapsed": true
   },
   "source": [
    "## Estimativas de localização / tendência central"
   ]
  },
  {
   "cell_type": "markdown",
   "id": "56a125bb",
   "metadata": {
    "hidden": true
   },
   "source": [
    "Variáveis com dados medidos ou de contagem podem ter milhares de valores distintos. Um passo básico na exploração dos seus dados é obter um \"valor típico\" para cada variável: uma estimativa de onde a maioria dos dados está localizada, ou seja, sua tendência central (\"the tendency of quantitative data to cluster around some central value.\")\n",
    "\n",
    "Qual é o ponto que resume todos os pontos que tenho?"
   ]
  },
  {
   "cell_type": "markdown",
   "id": "43752663",
   "metadata": {
    "hidden": true
   },
   "source": [
    "**Obs**: na estatística, 'N' se refere ao numéro de registros da população e 'n' da amostra.\n",
    "\n",
    "**Obs**: para substituição de dados faltantes, se não tiver outlier nos dados, dá para usar a média, se tiver dá para pegar o que está entre o quartil 25 e o quartil 75 e preencher com valores aleatórios dentro desse range.\n",
    "\n",
    "**Obs**: "
   ]
  },
  {
   "cell_type": "markdown",
   "id": "10f5b0ee",
   "metadata": {
    "heading_collapsed": true,
    "hidden": true
   },
   "source": [
    "#### Média"
   ]
  },
  {
   "cell_type": "markdown",
   "id": "cf3874f6",
   "metadata": {
    "hidden": true
   },
   "source": [
    "$\\bar{x} = \\frac{\\sum_{i=1}^{n} x_i}{n}$"
   ]
  },
  {
   "cell_type": "markdown",
   "id": "e857bf44",
   "metadata": {
    "heading_collapsed": true,
    "hidden": true
   },
   "source": [
    "#### 'Trimmed' média"
   ]
  },
  {
   "attachments": {},
   "cell_type": "markdown",
   "id": "2889617c",
   "metadata": {
    "hidden": true
   },
   "source": [
    "Calcular descartando um número fixo de valores classificados em cada extremidade e, em seguida, tirando uma média dos valores restantes.\n",
    "\n",
    "$\\bar{x}{trim} = \\frac{\\sum^{^{n-k}}_{i=k+1} x_i}{n-2k}$\n",
    "\n",
    "K é a quantidade de valores que serão removidos em cada extremidade."
   ]
  },
  {
   "cell_type": "markdown",
   "id": "256b253d",
   "metadata": {
    "heading_collapsed": true,
    "hidden": true
   },
   "source": [
    "#### Mediana"
   ]
  },
  {
   "cell_type": "markdown",
   "id": "762b7c35",
   "metadata": {
    "hidden": true
   },
   "source": [
    "A mediana é o número do meio em uma lista ordenada dos dados. A mediana depende apenas dos valores no centro dos dados classificados (depende da localização e não dos valores em si).\n",
    "\n",
    "A mediana é considerada uma estimativa robusta de localização, pois não é influenciada por valores fora do padrão (casos extremos) que poderiam distorcer os resultados.\n",
    "\n",
    "A mediana não é a única estimativa robusta de localização. De fato, a média aparada é amplamente utilizada para evitar a influência de valores fora do padrão. Por exemplo, aparar os 10% inferiores e superiores dos dados (uma escolha comum) fornecerá proteção contra valores fora do padrão em todos os conjuntos de dados, exceto os mais pequenos. A média aparada pode ser vista como um compromisso entre a mediana e a média: é robusta a valores extremos nos dados, mas usa mais dados para calcular a estimativa de localização."
   ]
  },
  {
   "cell_type": "markdown",
   "id": "2e275e8a",
   "metadata": {
    "heading_collapsed": true,
    "hidden": true
   },
   "source": [
    "#### Outlier"
   ]
  },
  {
   "cell_type": "markdown",
   "id": "1c96511c",
   "metadata": {
    "hidden": true
   },
   "source": [
    "An exact definition of an outlier is somewhat subjective, although certain conventions are used. Um outlier é qualquer valor que distoa muito dos outros valores do conjunto de dados."
   ]
  },
  {
   "cell_type": "markdown",
   "id": "0b72116a",
   "metadata": {
    "heading_collapsed": true
   },
   "source": [
    "## Estimativas de dispersão / variabilidade"
   ]
  },
  {
   "cell_type": "markdown",
   "id": "e3773ce9",
   "metadata": {
    "hidden": true
   },
   "source": [
    "A localização é apenas uma dimensão na sumarização de uma característica. Uma segunda dimensão, variabilidade, também conhecida como dispersão, mede se os valores dos dados estão fortemente agrupados ou espalhados. No coração da estatística está a variabilidade: medindo, reduzindo, distinguindo variabilidade aleatória de variabilidade real, identificando as várias fontes de variabilidade real e tomando decisões na presença dela."
   ]
  },
  {
   "cell_type": "markdown",
   "id": "c918b237",
   "metadata": {
    "heading_collapsed": true,
    "hidden": true
   },
   "source": [
    "### Definições"
   ]
  },
  {
   "cell_type": "markdown",
   "id": "7c12b22d",
   "metadata": {
    "hidden": true
   },
   "source": [
    "* **Deviations** - The difference between the observed values and the estimate of location (pode ser chamado de erro ou resíduo).\n",
    "* **Variance** - The sum of squared deviations from the mean divided by n – 1 where n is the number of data values (chamada também de mean-squared-error).\n",
    "* **Standard deviation** - The square root of the variance\n",
    "* **Mean absolute deviation** - The mean of the absolute values of the deviations from the mean. (chamado de l1-norm ou Manhattan norm).\n",
    "* **Median absolute deviation from the median** - The median of the absolute values of the deviations from the median.\n",
    "* **Range** - The difference between the largest and the smallest value in a data set.\n",
    "* **Order statistics** - Metrics based on the data values sorted from smallest to biggest.\n",
    "* **Percentile** - The value such that P percent of the values take on this value or less and (100–P) percent take on this value or more.\n",
    "* **Interquartile range (IQR)** - The difference between the 75th percentile and the 25th percentile."
   ]
  },
  {
   "cell_type": "markdown",
   "id": "215ddc4d",
   "metadata": {
    "heading_collapsed": true,
    "hidden": true
   },
   "source": [
    "### Standard deviation and Related Estimates"
   ]
  },
  {
   "cell_type": "markdown",
   "id": "e27a5283",
   "metadata": {
    "hidden": true
   },
   "source": [
    "The most widely used estimates of variation are based on the differences, or deviations, between the estimate of location and the observed data."
   ]
  },
  {
   "cell_type": "markdown",
   "id": "7903fa7e",
   "metadata": {
    "heading_collapsed": true,
    "hidden": true
   },
   "source": [
    "#### Mean Absolute Deviation (MAD)"
   ]
  },
  {
   "cell_type": "markdown",
   "id": "6d98da39",
   "metadata": {
    "hidden": true
   },
   "source": [
    "One way to measure variability is to estimate a typical value for these deviations.\n",
    "Averaging the deviations themselves would not tell us much—the negative deviations\n",
    "offset the positive ones. \n",
    "\n",
    "So, we take the average of the absolute values of the\n",
    "deviations from the mean."
   ]
  },
  {
   "cell_type": "markdown",
   "id": "26518c00",
   "metadata": {
    "hidden": true
   },
   "source": [
    "$MAD = \\frac{1}{n} \\sum_{i=1}^{n} |x_i - \\mu|$"
   ]
  },
  {
   "cell_type": "markdown",
   "id": "8d4270d4",
   "metadata": {
    "heading_collapsed": true,
    "hidden": true
   },
   "source": [
    "#### Variance and Standard Deviation"
   ]
  },
  {
   "cell_type": "markdown",
   "id": "a90fe0fe",
   "metadata": {
    "hidden": true
   },
   "source": [
    "The best-known estimates of variability are the variance and the standard deviation,\n",
    "which are based on squared deviations.\n",
    "\n",
    "The standard deviation is much easier to interpret than the variance since it is on the\n",
    "same scale as the original data.\n",
    "\n",
    "**Obs:** standard deviation is preferred in statistics over the mean absolute deviation. It owes its preeminence to statistical theory: mathematically, working with squared values is much more convenient than absolute values, especially for statistical models."
   ]
  },
  {
   "cell_type": "markdown",
   "id": "6fb9aa5f",
   "metadata": {
    "hidden": true
   },
   "source": [
    "$\\sigma^2 = \\frac{1}{n} \\sum_{i=1}^{n} (x_i - \\mu)^2$\n",
    "\n",
    "$\\sigma = \\sqrt{\\frac{1}{n} \\sum_{i=1}^{n} (x_i - \\mu)^2}$"
   ]
  },
  {
   "cell_type": "markdown",
   "id": "52c39d05",
   "metadata": {
    "hidden": true
   },
   "source": [
    "### Estimates based on Percentiles"
   ]
  },
  {
   "cell_type": "markdown",
   "id": "69294ce7",
   "metadata": {},
   "source": [
    "A different approach to estimating dispersion is based on looking at the spread of the sorted data. Statistics based on sorted (ranked) data are referred to as order statistics.\n",
    "\n",
    "A medida mais básica é o range. Ele é bom em identificar outliers, mas é uma medida muito sensível a outlier quando você quer medir a dispersão dos dados com o range. Para evitar isso, pode olhar pro range depois de dropar os outliers.\n",
    "\n",
    "Essas medidas são baseadas nas diferenças entre os percentis. "
   ]
  },
  {
   "cell_type": "markdown",
   "id": "201b1dcf",
   "metadata": {},
   "source": [
    "#### Percentile"
   ]
  },
  {
   "cell_type": "markdown",
   "id": "594dc58a",
   "metadata": {},
   "source": [
    "O Pth percentil é o valor que P% dos valores são iguais a ele ou menores e (100 - P)% dos dados estão acima dele. \n",
    "\n",
    "A mediana é a mesma coisa que o 50th percentil. \n",
    "\n",
    "O percentil é a mesma coisa que o quantil, quando se fala em quantil, você fala em .8, .7, que a mesma coisa coisa que falar 80 percentil, 70 percentil.\n",
    "\n",
    "Percentiles are also valuable for summarizing the entire distribution.\n",
    "\n",
    "Percentiles are especially valuable for summarizing the tails (the outer range) of the distribution.\n",
    "\n",
    "**Obs:** para datasets grandes, calcular os exatos percentis pode ser computacionalmente custos, uma vez que para isso é necessário ordenar todos os dados. Para isso, foram desenvolvidos algoritmos que calculam mais rapidamente e chegam em uma aproximação do percentil exato. \n",
    "\n",
    "**Obs:** Quartis (25th percentil, 50th percentil, 75 percentil). Decil (10 percentil, 20, ... 90 percentil)."
   ]
  },
  {
   "cell_type": "markdown",
   "id": "dcec9641",
   "metadata": {},
   "source": [
    "#### Interquartile Range (IQR)"
   ]
  },
  {
   "cell_type": "markdown",
   "id": "84e156c8",
   "metadata": {},
   "source": [
    "É uma medida de dispersão comum.\n",
    "\n",
    "Ela é a diferença entre o percentil 75 e o percentil 25.\n",
    "\n",
    "Exemplo:\n",
    "* Dados: {3,1,5,3,6,7,2,9}.\n",
    "* Dados ordenados: {1,2,3,3,5,6,7,9}\n",
    "* O 25th é 2.5, o 75th percentil é 6.5, então o IQR = 6.5 – 2.5 = 4."
   ]
  },
  {
   "cell_type": "markdown",
   "id": "8ffb7828",
   "metadata": {},
   "source": [
    "## Exploring the Data Distribution"
   ]
  },
  {
   "cell_type": "markdown",
   "id": "d6a5cebc",
   "metadata": {},
   "source": [
    "Each of the estimates we’ve covered sums up the data in a single number to describe\n",
    "the location or variability of the data.  It is also useful to explore how the data is dis‐\n",
    "tributed overall.\n"
   ]
  },
  {
   "cell_type": "markdown",
   "id": "c918b237",
   "metadata": {
    "heading_collapsed": true,
    "hidden": true
   },
   "source": [
    "### Definições"
   ]
  },
  {
   "cell_type": "markdown",
   "id": "d7780812",
   "metadata": {},
   "source": [
    "* **Boxplot**: A plot introduced by Tukey as a quick way to visualize the distribution of data.\n",
    "* **Frequency Table**: A tally of the count of numeric data values that fall into a set of intervals (bins).\n",
    "* **Histogram**: A plot of the frequency table with the bins on the x-axis and the count (or proportion) on the y-axis. While visually similar, bar charts should not be confused with histograms.\n",
    "* **Density plot**: A smoothed version of the histogram, often based on a kernel density estimate."
   ]
  },
  {
   "cell_type": "markdown",
   "id": "4c8c2b7d",
   "metadata": {},
   "source": [
    "#### Boxplot"
   ]
  },
  {
   "cell_type": "markdown",
   "id": "3d5958d3",
   "metadata": {},
   "source": [
    "https://miro.medium.com/max/828/1*objBGPPd5mgAXLOnJYqaFA.webp"
   ]
  },
  {
   "cell_type": "markdown",
   "id": "db8222a5",
   "metadata": {},
   "source": [
    "The top and bottom of the box are the 75th and 25th percentiles, respectively. The median is shown by the horizontal line in the box. The dashed lines, are the  whiskers. O tamanho dessa linha tracejada pra cima é de 1.5 * IQR (75 percentil - 25 percentil)."
   ]
  },
  {
   "cell_type": "markdown",
   "id": "1ca1125a",
   "metadata": {},
   "source": [
    "#### Frequency Table"
   ]
  },
  {
   "cell_type": "markdown",
   "id": "73709256",
   "metadata": {},
   "source": [
    "A frequency table of a variable divides up the variable range into equally spaced segments and tells us how many values fall within each segment."
   ]
  },
  {
   "cell_type": "markdown",
   "id": "433856e2",
   "metadata": {},
   "source": [
    "Separa em bins (intervalo) e conta quantos casos se encaixam em cada bin."
   ]
  },
  {
   "cell_type": "markdown",
   "id": "709b9446",
   "metadata": {},
   "source": [
    "It is important to include the empty bins; the fact that there are no values in those bins is useful information. It can also be useful to experiment with different bin sizes. If they are too large, important features of the distribution can be obscured. If they are too small, the result is too granular, and the ability to see the bigger picture is lost."
   ]
  },
  {
   "cell_type": "markdown",
   "id": "7b4e3d3a",
   "metadata": {},
   "source": [
    "#### Histograms\n",
    "\n",
    "A histogram is a way to visualize a frequency table, with bins on the x-axis and the\n",
    "data count on the y-axis."
   ]
  },
  {
   "cell_type": "markdown",
   "id": "9e52281a",
   "metadata": {},
   "source": [
    "#### Density plot"
   ]
  },
  {
   "cell_type": "markdown",
   "id": "c128e1ca",
   "metadata": {},
   "source": [
    "\n",
    "O gráfico de densidade pode ser entendido como um histograma mais suave. A distribuição dos dados é mostrada como uma linha contínua e não por meio de barras."
   ]
  },
  {
   "cell_type": "markdown",
   "id": "6b6e71b7",
   "metadata": {},
   "source": [
    "Suponha que temos 3 bins.\n",
    "* No primeiro temos 10 casos\n",
    "* No segundo 70 casos\n",
    "* No terceiro 20 casos\n",
    "\n",
    "Ao invés de plotarmos um histograma que tem no eixo y a contagem absoluta de casos em cada bin, pega a proporção de cada bin e bota isso no eixo y."
   ]
  },
  {
   "cell_type": "markdown",
   "id": "77927fb1",
   "metadata": {},
   "source": [
    "## Exploring Binary and Categorical Data"
   ]
  },
  {
   "cell_type": "markdown",
   "id": "b91308b5",
   "metadata": {},
   "source": [
    "For categorical data, simple proportions or percentages tell the story of the data."
   ]
  },
  {
   "cell_type": "markdown",
   "id": "8df0df2d",
   "metadata": {},
   "source": [
    "### Definições"
   ]
  },
  {
   "cell_type": "markdown",
   "id": "0147eacb",
   "metadata": {},
   "source": [
    "* **Mode**: The most commonly occurring category or value in a data set.\n",
    "* **Expected Value**: When the categories can be associated with a numeric value, this gives an average value based on a category’s probability of occurrence.\n",
    "* **Bar charts**: The frequency or proportion for each category plotted as bars.\n",
    "* **Pie charts**: The frequency or proportion for each category plotted as wedges in a pie."
   ]
  },
  {
   "cell_type": "markdown",
   "id": "c47f008f",
   "metadata": {},
   "source": [
    "#### Bar charts"
   ]
  },
  {
   "cell_type": "markdown",
   "id": "63d8025b",
   "metadata": {},
   "source": [
    "Note that a bar chart resembles a histogram; in a bar chart the x-axis represents different categories of a factor variable, while in a histogram the x-axis represents values of a single variable on a numeric scale. In a histogram, the bars are typically shown touching each other, with gaps indicating values that did not occur in the data. In a bar chart, the bars are shown separate from one another.\n"
   ]
  },
  {
   "cell_type": "markdown",
   "id": "112b6f2a",
   "metadata": {},
   "source": [
    "#### Mode"
   ]
  },
  {
   "cell_type": "markdown",
   "id": "9d88fc4d",
   "metadata": {},
   "source": [
    "The mode is the value that appears most often in the data. "
   ]
  },
  {
   "cell_type": "markdown",
   "id": "1230a441",
   "metadata": {},
   "source": [
    "#### Expected Value"
   ]
  },
  {
   "cell_type": "markdown",
   "id": "40ce43aa",
   "metadata": {},
   "source": []
  }
 ],
 "metadata": {
  "kernelspec": {
   "display_name": "Python 3 (ipykernel)",
   "language": "python",
   "name": "python3"
  },
  "language_info": {
   "codemirror_mode": {
    "name": "ipython",
    "version": 3
   },
   "file_extension": ".py",
   "mimetype": "text/x-python",
   "name": "python",
   "nbconvert_exporter": "python",
   "pygments_lexer": "ipython3",
   "version": "3.9.12"
  }
 },
 "nbformat": 4,
 "nbformat_minor": 5
}
