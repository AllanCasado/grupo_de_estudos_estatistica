{
 "cells": [
  {
   "cell_type": "markdown",
   "id": "752a2b87",
   "metadata": {
    "heading_collapsed": true
   },
   "source": [
    "## Estimativas de localização / tendência central"
   ]
  },
  {
   "cell_type": "markdown",
   "id": "56a125bb",
   "metadata": {
    "hidden": true
   },
   "source": [
    "Variáveis com dados medidos ou de contagem podem ter milhares de valores distintos. Um passo básico na exploração dos seus dados é obter um \"valor típico\" para cada variável: uma estimativa de onde a maioria dos dados está localizada, ou seja, sua tendência central (\"the tendency of quantitative data to cluster around some central value.\")\n",
    "\n",
    "Qual é o ponto que resume todos os pontos que tenho?"
   ]
  },
  {
   "cell_type": "markdown",
   "id": "43752663",
   "metadata": {
    "hidden": true
   },
   "source": [
    "**Obs**: na estatística, 'N' se refere ao numéro de registros da população e 'n' da amostra.\n",
    "\n",
    "**Obs**: para substituição de dados faltantes, se não tiver outlier nos dados, dá para usar a média, se tiver dá para pegar o que está entre o quartil 25 e o quartil 75 e preencher com valores aleatórios dentro desse range.\n",
    "\n",
    "**Obs**: "
   ]
  },
  {
   "cell_type": "markdown",
   "id": "10f5b0ee",
   "metadata": {
    "heading_collapsed": true,
    "hidden": true
   },
   "source": [
    "#### Média"
   ]
  },
  {
   "cell_type": "markdown",
   "id": "cf3874f6",
   "metadata": {
    "hidden": true
   },
   "source": [
    "$\\bar{x} = \\frac{\\sum_{i=1}^{n} x_i}{n}$"
   ]
  },
  {
   "cell_type": "markdown",
   "id": "e857bf44",
   "metadata": {
    "heading_collapsed": true,
    "hidden": true
   },
   "source": [
    "#### 'Trimmed' média"
   ]
  },
  {
   "attachments": {},
   "cell_type": "markdown",
   "id": "2889617c",
   "metadata": {
    "hidden": true
   },
   "source": [
    "Calcular descartando um número fixo de valores classificados em cada extremidade e, em seguida, tirando uma média dos valores restantes.\n",
    "\n",
    "$\\bar{x}{trim} = \\frac{\\sum^{^{n-k}}_{i=k+1} x_i}{n-2k}$\n",
    "\n",
    "K é a quantidade de valores que serão removidos em cada extremidade."
   ]
  },
  {
   "cell_type": "markdown",
   "id": "256b253d",
   "metadata": {
    "heading_collapsed": true,
    "hidden": true
   },
   "source": [
    "#### Mediana"
   ]
  },
  {
   "cell_type": "markdown",
   "id": "762b7c35",
   "metadata": {
    "hidden": true
   },
   "source": [
    "A mediana é o número do meio em uma lista ordenada dos dados. A mediana depende apenas dos valores no centro dos dados classificados (depende da localização e não dos valores em si).\n",
    "\n",
    "A mediana é considerada uma estimativa robusta de localização, pois não é influenciada por valores fora do padrão (casos extremos) que poderiam distorcer os resultados.\n",
    "\n",
    "A mediana não é a única estimativa robusta de localização. De fato, a média aparada é amplamente utilizada para evitar a influência de valores fora do padrão. Por exemplo, aparar os 10% inferiores e superiores dos dados (uma escolha comum) fornecerá proteção contra valores fora do padrão em todos os conjuntos de dados, exceto os mais pequenos. A média aparada pode ser vista como um compromisso entre a mediana e a média: é robusta a valores extremos nos dados, mas usa mais dados para calcular a estimativa de localização."
   ]
  },
  {
   "cell_type": "markdown",
   "id": "2e275e8a",
   "metadata": {
    "heading_collapsed": true,
    "hidden": true
   },
   "source": [
    "#### Outlier"
   ]
  },
  {
   "cell_type": "markdown",
   "id": "1c96511c",
   "metadata": {
    "hidden": true
   },
   "source": [
    "An exact definition of an outlier is somewhat subjective, although certain conventions are used. Um outlier é qualquer valor que distoa muito dos outros valores do conjunto de dados."
   ]
  },
  {
   "cell_type": "markdown",
   "id": "0b72116a",
   "metadata": {
    "heading_collapsed": true
   },
   "source": [
    "## Estimativas de dispersão / variabilidade"
   ]
  },
  {
   "cell_type": "markdown",
   "id": "e3773ce9",
   "metadata": {
    "hidden": true
   },
   "source": [
    "A localização é apenas uma dimensão na sumarização de uma característica. Uma segunda dimensão, variabilidade, também conhecida como dispersão, mede se os valores dos dados estão fortemente agrupados ou espalhados. No coração da estatística está a variabilidade: medindo, reduzindo, distinguindo variabilidade aleatória de variabilidade real, identificando as várias fontes de variabilidade real e tomando decisões na presença dela."
   ]
  },
  {
   "cell_type": "markdown",
   "id": "c918b237",
   "metadata": {
    "heading_collapsed": true,
    "hidden": true
   },
   "source": [
    "### Definições"
   ]
  },
  {
   "cell_type": "markdown",
   "id": "7c12b22d",
   "metadata": {
    "hidden": true
   },
   "source": [
    "* **Deviations** - The difference between the observed values and the estimate of location (pode ser chamado de erro ou resíduo).\n",
    "* **Variance** - The sum of squared deviations from the mean divided by n – 1 where n is the number of data values (chamada também de mean-squared-error).\n",
    "* **Standard deviation** - The square root of the variance\n",
    "* **Mean absolute deviation** - The mean of the absolute values of the deviations from the mean. (chamado de l1-norm ou Manhattan norm).\n",
    "* **Median absolute deviation from the median** - The median of the absolute values of the deviations from the median.\n",
    "* **Range** - The difference between the largest and the smallest value in a data set.\n",
    "* **Order statistics** - Metrics based on the data values sorted from smallest to biggest.\n",
    "* **Percentile** - The value such that P percent of the values take on this value or less and (100–P) percent take on this value or more.\n",
    "* **Interquartile range (IQR)** - The difference between the 75th percentile and the 25th percentile."
   ]
  },
  {
   "cell_type": "markdown",
   "id": "215ddc4d",
   "metadata": {
    "heading_collapsed": true,
    "hidden": true
   },
   "source": [
    "### Standard deviation and Related Estimates"
   ]
  },
  {
   "cell_type": "markdown",
   "id": "e27a5283",
   "metadata": {
    "hidden": true
   },
   "source": [
    "The most widely used estimates of variation are based on the differences, or deviations, between the estimate of location and the observed data."
   ]
  },
  {
   "cell_type": "markdown",
   "id": "7903fa7e",
   "metadata": {
    "heading_collapsed": true,
    "hidden": true
   },
   "source": [
    "#### Mean Absolute Deviation (MAD)"
   ]
  },
  {
   "cell_type": "markdown",
   "id": "6d98da39",
   "metadata": {
    "hidden": true
   },
   "source": [
    "One way to measure variability is to estimate a typical value for these deviations.\n",
    "Averaging the deviations themselves would not tell us much—the negative deviations\n",
    "offset the positive ones. \n",
    "\n",
    "So, we take the average of the absolute values of the\n",
    "deviations from the mean."
   ]
  },
  {
   "cell_type": "markdown",
   "id": "26518c00",
   "metadata": {
    "hidden": true
   },
   "source": [
    "$MAD = \\frac{1}{n} \\sum_{i=1}^{n} |x_i - \\mu|$"
   ]
  },
  {
   "cell_type": "markdown",
   "id": "8d4270d4",
   "metadata": {
    "heading_collapsed": true,
    "hidden": true
   },
   "source": [
    "#### Variance and Standard Deviation"
   ]
  },
  {
   "cell_type": "markdown",
   "id": "a90fe0fe",
   "metadata": {
    "hidden": true
   },
   "source": [
    "The best-known estimates of variability are the variance and the standard deviation,\n",
    "which are based on squared deviations.\n",
    "\n",
    "The standard deviation is much easier to interpret than the variance since it is on the\n",
    "same scale as the original data.\n",
    "\n",
    "**Obs:** standard deviation is preferred in statistics over the mean absolute deviation. It owes its preeminence to statistical theory: mathematically, working with squared values is much more convenient than absolute values, especially for statistical models."
   ]
  },
  {
   "cell_type": "markdown",
   "id": "6fb9aa5f",
   "metadata": {
    "hidden": true
   },
   "source": [
    "$\\sigma^2 = \\frac{1}{n} \\sum_{i=1}^{n} (x_i - \\mu)^2$\n",
    "\n",
    "$\\sigma = \\sqrt{\\frac{1}{n} \\sum_{i=1}^{n} (x_i - \\mu)^2}$"
   ]
  },
  {
   "cell_type": "code",
   "execution_count": null,
   "id": "52c39d05",
   "metadata": {
    "hidden": true
   },
   "outputs": [],
   "source": []
  }
 ],
 "metadata": {
  "kernelspec": {
   "display_name": "Python 3 (ipykernel)",
   "language": "python",
   "name": "python3"
  },
  "language_info": {
   "codemirror_mode": {
    "name": "ipython",
    "version": 3
   },
   "file_extension": ".py",
   "mimetype": "text/x-python",
   "name": "python",
   "nbconvert_exporter": "python",
   "pygments_lexer": "ipython3",
   "version": "3.9.12"
  }
 },
 "nbformat": 4,
 "nbformat_minor": 5
}
